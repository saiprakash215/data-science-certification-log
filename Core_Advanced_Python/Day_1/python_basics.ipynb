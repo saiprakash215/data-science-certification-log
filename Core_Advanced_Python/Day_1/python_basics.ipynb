{
 "cells": [
  {
   "cell_type": "markdown",
   "id": "79495063-224e-4b0d-8b7c-ac1ce6f4f9bc",
   "metadata": {},
   "source": [
    "#week 1 - python basics"
   ]
  },
  {
   "cell_type": "code",
   "execution_count": 3,
   "id": "8685f38d-bcb2-4505-8774-079fd40b34ce",
   "metadata": {},
   "outputs": [
    {
     "name": "stdout",
     "output_type": "stream",
     "text": [
      "Hello world!\n"
     ]
    }
   ],
   "source": [
    "#print a message\n",
    "\n",
    "print('Hello world!') #print statement is a output statement of python"
   ]
  },
  {
   "cell_type": "code",
   "execution_count": 9,
   "id": "ddc108ba-e767-4f22-9a7f-9e14ac67912a",
   "metadata": {},
   "outputs": [
    {
     "name": "stdout",
     "output_type": "stream",
     "text": [
      "this is a print statement\n",
      "this is a second print statement\n"
     ]
    }
   ],
   "source": [
    "# this is a single line comment\n",
    "\n",
    "print('this is a print statement')\n",
    "\n",
    "'''\n",
    "This is a multiline\n",
    "comment\n",
    "'''\n",
    "\n",
    "print('this is a second print statement')"
   ]
  },
  {
   "cell_type": "code",
   "execution_count": 11,
   "id": "7494d8d7-7813-4209-b9ae-89e04802caf6",
   "metadata": {},
   "outputs": [
    {
     "name": "stdout",
     "output_type": "stream",
     "text": [
      "The value of x :  10\n",
      "The datatype of x : <class 'int'>\n"
     ]
    }
   ],
   "source": [
    "# Demonstrate variables and datatypes\n",
    "\n",
    "x = 10 #x is called a variable\n",
    "\n",
    "print('The value of x : ', x)\n",
    "\n",
    "#the properties of values are: name , value , type\n",
    "\n",
    "print('The datatype of x :', type(x))"
   ]
  },
  {
   "cell_type": "code",
   "execution_count": 15,
   "id": "beca7ff2-cd50-4496-9fb7-3077442ad0f1",
   "metadata": {},
   "outputs": [
    {
     "name": "stdout",
     "output_type": "stream",
     "text": [
      "20.456\n",
      "The new value of x :  20.456\n",
      "The new type of x :  <class 'float'>\n"
     ]
    }
   ],
   "source": [
    "#Number , string,  booolean\n",
    "\n",
    "#numeric data types of python : int, float , complex\n",
    "\n",
    "print(x)\n",
    "\n",
    "x = 20.456 # float value\n",
    "\n",
    "print('The new value of x : ', x)\n",
    "print('The new type of x : ', type(x))\n"
   ]
  },
  {
   "cell_type": "code",
   "execution_count": 16,
   "id": "455b00e8-6b6d-4886-aece-36667b0b8921",
   "metadata": {},
   "outputs": [
    {
     "name": "stdout",
     "output_type": "stream",
     "text": [
      "The new value of y :  (4+8j)\n",
      "The new type of y :  <class 'complex'>\n"
     ]
    }
   ],
   "source": [
    "y = 4 + 8j #complex number 4+8j\n",
    "\n",
    "print('The new value of y : ', y)\n",
    "print('The new type of y : ', type(y))\n"
   ]
  },
  {
   "cell_type": "code",
   "execution_count": 2,
   "id": "04dd97f3-7f56-41a5-9c79-11fb40a79de4",
   "metadata": {},
   "outputs": [],
   "source": [
    "##Strings"
   ]
  },
  {
   "cell_type": "code",
   "execution_count": 5,
   "id": "4f6850fd-5c76-455f-b006-3fe0c95f6fd0",
   "metadata": {},
   "outputs": [
    {
     "name": "stdout",
     "output_type": "stream",
     "text": [
      "the string str1 is : welcome to python programming\n"
     ]
    }
   ],
   "source": [
    "str1='welcome to python programming'\n",
    "\n",
    "print('the string str1 is :', str1 )"
   ]
  },
  {
   "cell_type": "code",
   "execution_count": 6,
   "id": "896753e1-97d0-4bdc-8209-f0fb3994bdbc",
   "metadata": {},
   "outputs": [
    {
     "name": "stdout",
     "output_type": "stream",
     "text": [
      "the string str2 is : welcome to strings in python\n"
     ]
    }
   ],
   "source": [
    "str2 = 'welcome to strings in python'\n",
    "\n",
    "print('the string str2 is :', str2)\n"
   ]
  },
  {
   "cell_type": "code",
   "execution_count": 12,
   "id": "4b0546bd-4b26-47ca-9cbf-2aa2c4963134",
   "metadata": {},
   "outputs": [
    {
     "name": "stdout",
     "output_type": "stream",
     "text": [
      "the string str3 is: \n",
      "Welcome to multi line strings\n",
      "dawg\n",
      "\n",
      "the datatypes of str1, str2 and str3 are : <class 'str'> <class 'str'> <class 'str'>\n"
     ]
    }
   ],
   "source": [
    "str3 = '''\n",
    "Welcome to multi line strings\n",
    "dawg\n",
    "'''\n",
    "\n",
    "print('the string str3 is:', str3)\n",
    "\n",
    "print('the datatypes of str1, str2 and str3 are :', type(str1), type(str2), type(str3))"
   ]
  },
  {
   "cell_type": "markdown",
   "id": "cd30a466-964f-4e70-96df-ee158bdc9028",
   "metadata": {},
   "source": [
    "#Bool datatype"
   ]
  },
  {
   "cell_type": "code",
   "execution_count": 16,
   "id": "e0ff6d38-c160-4950-aad9-03f50d09b60d",
   "metadata": {},
   "outputs": [
    {
     "name": "stdout",
     "output_type": "stream",
     "text": [
      "The value of flag is:  True\n",
      "the datatype of flag is  <class 'bool'>\n"
     ]
    }
   ],
   "source": [
    "flag = True\n",
    "\n",
    "print('The value of flag is: ', flag)\n",
    "print('the datatype of flag is ', type(flag))"
   ]
  },
  {
   "cell_type": "code",
   "execution_count": 18,
   "id": "437f9ac5-95e2-4992-b941-bdf9022a105b",
   "metadata": {},
   "outputs": [
    {
     "name": "stdout",
     "output_type": "stream",
     "text": [
      "the changed value of flag is  False\n"
     ]
    }
   ],
   "source": [
    "flag = False\n",
    "\n",
    "print('the changed value of flag is ', flag)"
   ]
  },
  {
   "cell_type": "markdown",
   "id": "2e92f67c-0753-41b3-b470-dbe6ad58f816",
   "metadata": {},
   "source": [
    "Arithmetic operators"
   ]
  },
  {
   "cell_type": "code",
   "execution_count": 19,
   "id": "1e2148dc-e340-48bd-a012-498f7e5b83f6",
   "metadata": {},
   "outputs": [
    {
     "name": "stdout",
     "output_type": "stream",
     "text": [
      "the value of x is = 10\n",
      "the value of x after adding 2 is  12\n"
     ]
    }
   ],
   "source": [
    "x = 10\n",
    "\n",
    "print('the value of x is =', x)\n",
    "\n",
    "x = x + 2; #addition operator\n",
    "print('the value of x after adding 2 is ', x)"
   ]
  },
  {
   "cell_type": "code",
   "execution_count": 20,
   "id": "e5227924-b7c0-4089-a783-27fd28528b2a",
   "metadata": {},
   "outputs": [
    {
     "name": "stdout",
     "output_type": "stream",
     "text": [
      "The value of z is  9 the datatype of z is <class 'int'>\n"
     ]
    }
   ],
   "source": [
    "y = 3;\n",
    "\n",
    "z = x - y; #minus operator\n",
    "print('The value of z is ', z, 'the datatype of z is', type(z))"
   ]
  },
  {
   "cell_type": "code",
   "execution_count": 23,
   "id": "591bd447-f4f6-470a-a622-8dd5bf9f0108",
   "metadata": {},
   "outputs": [
    {
     "name": "stdout",
     "output_type": "stream",
     "text": [
      "value of y after multiplication is  24\n"
     ]
    }
   ],
   "source": [
    "y = y * 2; #multiplication operator\n",
    "\n",
    "print('value of y after multiplication is ', y)"
   ]
  },
  {
   "cell_type": "code",
   "execution_count": 26,
   "id": "0d2eee8e-2a44-40f9-8d95-aa7228242fbf",
   "metadata": {},
   "outputs": [
    {
     "name": "stdout",
     "output_type": "stream",
     "text": [
      "value of z after division is 2.4\n",
      "the datatype of z is <class 'float'>\n"
     ]
    }
   ],
   "source": [
    "z = x / 5 #division operator\n",
    "\n",
    "print('value of z after division is', z)\n",
    "print('the datatype of z is', type(z))"
   ]
  },
  {
   "cell_type": "code",
   "execution_count": 30,
   "id": "2216042f-05e5-4d1b-9f0c-850f84933bbf",
   "metadata": {},
   "outputs": [
    {
     "name": "stdout",
     "output_type": "stream",
     "text": [
      "The value of x is  12\n",
      "The value of y is  2\n",
      "the datatype of y is  <class 'int'>\n"
     ]
    }
   ],
   "source": [
    "y = x // 5 #Integer division\n",
    "\n",
    "print('The value of x is ', x)\n",
    "print('The value of y is ', y)\n",
    "print('the datatype of y is ', type(y))\n",
    "\n"
   ]
  },
  {
   "cell_type": "code",
   "execution_count": 35,
   "id": "d9f7acde-b7ee-4bc8-b094-fee037462bc1",
   "metadata": {},
   "outputs": [
    {
     "name": "stdout",
     "output_type": "stream",
     "text": [
      "z is  1\n",
      "k is  2\n"
     ]
    }
   ],
   "source": [
    "x = 13\n",
    "\n",
    "z = x % 2 #the modulo operator\n",
    "\n",
    "print('z is ',z)\n",
    "\n",
    "y = 17\n",
    "\n",
    "k = y % 5\n",
    "print('k is ',k)"
   ]
  },
  {
   "cell_type": "code",
   "execution_count": 37,
   "id": "2c55f666-49c8-4599-a77f-e6913f352cec",
   "metadata": {},
   "outputs": [
    {
     "name": "stdout",
     "output_type": "stream",
     "text": [
      "z - 8\n"
     ]
    }
   ],
   "source": [
    "x = 2\n",
    "\n",
    "y = 3\n",
    "\n",
    "z = x ** y #exponentiation operator\n",
    "\n",
    "print('z -', z)"
   ]
  },
  {
   "cell_type": "code",
   "execution_count": 39,
   "id": "0b121ebc-d08e-4a1e-9c41-b055bcbb9401",
   "metadata": {},
   "outputs": [
    {
     "data": {
      "text/plain": [
       "3"
      ]
     },
     "execution_count": 39,
     "metadata": {},
     "output_type": "execute_result"
    }
   ],
   "source": [
    "# Expressions\n",
    "a=1\n",
    "b=2\n",
    "a + b # a and b are operands, and + is binary operator"
   ]
  },
  {
   "cell_type": "raw",
   "id": "776d79a3-2964-48b0-9ecb-218d08e2b8b4",
   "metadata": {},
   "source": [
    "Unary operator"
   ]
  },
  {
   "cell_type": "code",
   "execution_count": 40,
   "id": "39b9769e-74d6-4778-938c-c5e9ceab388b",
   "metadata": {},
   "outputs": [
    {
     "name": "stdout",
     "output_type": "stream",
     "text": [
      "x is  10 and y is -10\n"
     ]
    }
   ],
   "source": [
    "# unary minus operator\n",
    "\n",
    "x = 10\n",
    "\n",
    "y = -x\n",
    "\n",
    "print('x is ', x, 'and y is', y)"
   ]
  },
  {
   "cell_type": "code",
   "execution_count": null,
   "id": "096849e4-5544-4ec8-a2c6-5ff823b2b7e5",
   "metadata": {},
   "outputs": [],
   "source": []
  },
  {
   "cell_type": "code",
   "execution_count": null,
   "id": "9b52b2d9-a06b-4704-96d6-00aee8c4a6bc",
   "metadata": {},
   "outputs": [],
   "source": []
  },
  {
   "cell_type": "code",
   "execution_count": null,
   "id": "d5cfa031-d461-415e-b8ee-0e018b9fc096",
   "metadata": {},
   "outputs": [],
   "source": []
  },
  {
   "cell_type": "code",
   "execution_count": null,
   "id": "8d22285a-0b42-4af5-965c-56a5f1f940f0",
   "metadata": {},
   "outputs": [],
   "source": []
  }
 ],
 "metadata": {
  "kernelspec": {
   "display_name": "Python 3 (ipykernel)",
   "language": "python",
   "name": "python3"
  },
  "language_info": {
   "codemirror_mode": {
    "name": "ipython",
    "version": 3
   },
   "file_extension": ".py",
   "mimetype": "text/x-python",
   "name": "python",
   "nbconvert_exporter": "python",
   "pygments_lexer": "ipython3",
   "version": "3.12.7"
  }
 },
 "nbformat": 4,
 "nbformat_minor": 5
}
